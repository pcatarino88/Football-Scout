{
 "cells": [
  {
   "cell_type": "markdown",
   "id": "5528254f-ec6f-4093-b569-d5cb14b2bdd2",
   "metadata": {},
   "source": [
    "# 0. Install and import required libraries"
   ]
  },
  {
   "cell_type": "code",
   "execution_count": 501,
   "id": "eb3c382c-ba6f-4643-8b7f-5929cec3fde3",
   "metadata": {},
   "outputs": [
    {
     "name": "stdout",
     "output_type": "stream",
     "text": [
      "Requirement already satisfied: selenium in c:\\users\\pedro\\anaconda3\\lib\\site-packages (4.34.2)\n",
      "Requirement already satisfied: urllib3~=2.5.0 in c:\\users\\pedro\\anaconda3\\lib\\site-packages (from urllib3[socks]~=2.5.0->selenium) (2.5.0)\n",
      "Requirement already satisfied: trio~=0.30.0 in c:\\users\\pedro\\anaconda3\\lib\\site-packages (from selenium) (0.30.0)\n",
      "Requirement already satisfied: trio-websocket~=0.12.2 in c:\\users\\pedro\\anaconda3\\lib\\site-packages (from selenium) (0.12.2)\n",
      "Requirement already satisfied: certifi>=2025.6.15 in c:\\users\\pedro\\anaconda3\\lib\\site-packages (from selenium) (2025.7.14)\n",
      "Requirement already satisfied: typing_extensions~=4.14.0 in c:\\users\\pedro\\anaconda3\\lib\\site-packages (from selenium) (4.14.1)\n",
      "Requirement already satisfied: websocket-client~=1.8.0 in c:\\users\\pedro\\anaconda3\\lib\\site-packages (from selenium) (1.8.0)\n",
      "Requirement already satisfied: attrs>=23.2.0 in c:\\users\\pedro\\anaconda3\\lib\\site-packages (from trio~=0.30.0->selenium) (25.3.0)\n",
      "Requirement already satisfied: sortedcontainers in c:\\users\\pedro\\anaconda3\\lib\\site-packages (from trio~=0.30.0->selenium) (2.4.0)\n",
      "Requirement already satisfied: idna in c:\\users\\pedro\\anaconda3\\lib\\site-packages (from trio~=0.30.0->selenium) (3.7)\n",
      "Requirement already satisfied: outcome in c:\\users\\pedro\\anaconda3\\lib\\site-packages (from trio~=0.30.0->selenium) (1.3.0.post0)\n",
      "Requirement already satisfied: sniffio>=1.3.0 in c:\\users\\pedro\\anaconda3\\lib\\site-packages (from trio~=0.30.0->selenium) (1.3.0)\n",
      "Requirement already satisfied: cffi>=1.14 in c:\\users\\pedro\\anaconda3\\lib\\site-packages (from trio~=0.30.0->selenium) (1.17.1)\n",
      "Requirement already satisfied: wsproto>=0.14 in c:\\users\\pedro\\anaconda3\\lib\\site-packages (from trio-websocket~=0.12.2->selenium) (1.2.0)\n",
      "Requirement already satisfied: pysocks!=1.5.7,<2.0,>=1.5.6 in c:\\users\\pedro\\anaconda3\\lib\\site-packages (from urllib3[socks]~=2.5.0->selenium) (1.7.1)\n",
      "Requirement already satisfied: pycparser in c:\\users\\pedro\\anaconda3\\lib\\site-packages (from cffi>=1.14->trio~=0.30.0->selenium) (2.21)\n",
      "Requirement already satisfied: h11<1,>=0.9.0 in c:\\users\\pedro\\anaconda3\\lib\\site-packages (from wsproto>=0.14->trio-websocket~=0.12.2->selenium) (0.14.0)\n",
      "Requirement already satisfied: html5lib in c:\\users\\pedro\\anaconda3\\lib\\site-packages (1.1)\n",
      "Requirement already satisfied: six>=1.9 in c:\\users\\pedro\\anaconda3\\lib\\site-packages (from html5lib) (1.16.0)\n",
      "Requirement already satisfied: webencodings in c:\\users\\pedro\\anaconda3\\lib\\site-packages (from html5lib) (0.5.1)\n"
     ]
    }
   ],
   "source": [
    "!pip install selenium\n",
    "!pip install html5lib"
   ]
  },
  {
   "cell_type": "code",
   "execution_count": 502,
   "id": "6b7652dd-d196-450a-bf11-becd4c9e76d9",
   "metadata": {},
   "outputs": [],
   "source": [
    "from selenium import webdriver\n",
    "from selenium.webdriver.chrome.options import Options\n",
    "import pandas as pd\n",
    "import time\n",
    "import io"
   ]
  },
  {
   "cell_type": "markdown",
   "id": "4ab70f27-325d-408b-ab37-69065cc598d8",
   "metadata": {},
   "source": [
    "# 1. Web scraping and consolidation functions"
   ]
  },
  {
   "cell_type": "markdown",
   "id": "797a6fac-f611-4cda-81c2-320af9cf05b2",
   "metadata": {},
   "source": [
    "**Scraping Function**"
   ]
  },
  {
   "cell_type": "code",
   "execution_count": 1020,
   "id": "c8bd5be7-65c4-49b9-9e8d-0b52ab3e7019",
   "metadata": {},
   "outputs": [],
   "source": [
    "def scrape_fbref_stats(url, table_index=2):\n",
    "    \"\"\"\n",
    "    Scraps fbref urls defined as function input and brings table number 2 (expected 'Player Stats') as output\n",
    "\n",
    "    Parameters:\n",
    "    - url: link of the url to scrap\n",
    "    - table_index: defined as a fixed number '2' as all pages seem to obbey to similar logic \n",
    "    \n",
    "    Returns:\n",
    "    - Dataframe with scraped table\n",
    "    \"\"\"\n",
    "    \n",
    "    # Set up headless browser\n",
    "    options = Options()\n",
    "    options.add_argument(\"--headless\")\n",
    "    driver = webdriver.Chrome(options=options)\n",
    "\n",
    "    # Load the page\n",
    "    driver.get(url)\n",
    "    time.sleep(5)  # Wait for JavaScript to render\n",
    "\n",
    "    # Get HTML content after rendering\n",
    "    html = driver.page_source\n",
    "    driver.quit()\n",
    "\n",
    "    # Parse with pandas\n",
    "    tables = pd.read_html(io.StringIO(html))\n",
    "    df = tables[table_index]\n",
    "\n",
    "    # Flatten multi-index headers properly\n",
    "    df.columns = [\n",
    "        f'{col[0]}_{col[1]}' if isinstance(col, tuple) and col[0] != col[1] and 'level' not in col[0]\n",
    "        else col[1] if isinstance(col, tuple)\n",
    "        else col\n",
    "        for col in df.columns\n",
    "]\n",
    "\n",
    "    # Reset index\n",
    "    df = df.reset_index(drop=True)\n",
    "\n",
    "    # No truncation: keep full names\n",
    "    df.columns = [str(col).strip() for col in df.columns]\n",
    "\n",
    "    # Fill missing values and discart invalid rows\n",
    "    df = df.fillna(0)\n",
    "    df = df[df['Rk'] != 'Rk']\n",
    "\n",
    "    # Simplify Nation field if it exists\n",
    "    if 'Nation' in df.columns:\n",
    "        df['Nation'] = df['Nation'].astype(str).str.split(' ').str.get(1)\n",
    "\n",
    "    return df"
   ]
  },
  {
   "cell_type": "markdown",
   "id": "41c13901-a2f4-4cf7-96ac-23c2386b794b",
   "metadata": {},
   "source": [
    "**Player Aggregation Function**"
   ]
  },
  {
   "cell_type": "code",
   "execution_count": 1022,
   "id": "274c324c-01bf-4c77-9ddf-2bd091fa7dbb",
   "metadata": {},
   "outputs": [],
   "source": [
    "def join_player_tables(tables, league_name = None):\n",
    "    \"\"\"\n",
    "    Joins a list of DataFrames on 'Rk' and 'Player' columns using inner join.\n",
    "\n",
    "    Parameters:\n",
    "    - tables: list of pandas DataFrames to be joined\n",
    "    - league_name: optional string, added as a 'League' column\n",
    "\n",
    "    Returns:\n",
    "    - A single DataFrame resulting from joining all tables\n",
    "    \"\"\"\n",
    "    if not tables:\n",
    "        return pd.DataFrame()  # Return empty if list is empty\n",
    "\n",
    "    # Start with the first table\n",
    "    merged_df = tables[0]\n",
    "\n",
    "    for i, df in enumerate(tables[1:], start=2):\n",
    "        merged_df = pd.merge(merged_df, df, on=['Rk', 'Player'], how='inner', suffixes=('', f'_{i}'))\n",
    "\n",
    "    # Add and move 'League' column to the front\n",
    "    if league_name is not None:\n",
    "        merged_df['League'] = league_name\n",
    "        cols = ['League'] + [col for col in merged_df.columns if col != 'League']\n",
    "        merged_df = merged_df[cols]\n",
    "    \n",
    "    return merged_df"
   ]
  },
  {
   "cell_type": "markdown",
   "id": "74ed2d76-acba-48b2-8a2e-57b51f553768",
   "metadata": {},
   "source": [
    "# 2. National Leagues Web Scraping"
   ]
  },
  {
   "cell_type": "markdown",
   "id": "1d3b12cd-bc23-45ee-8ddb-c1ed99b50689",
   "metadata": {},
   "source": [
    "## Austria"
   ]
  },
  {
   "cell_type": "markdown",
   "id": "388c6353-19cc-4028-adfd-c212631a9b00",
   "metadata": {},
   "source": [
    "### AUS 1 - Standard Stats, Shooting and Miscellaneous"
   ]
  },
  {
   "cell_type": "code",
   "execution_count": 1026,
   "id": "c7d81a2d-acb6-4b80-adc0-a2ff4dbe0e74",
   "metadata": {},
   "outputs": [],
   "source": [
    "# STANDARD STATS\n",
    "url1 = \"https://fbref.com/en/comps/56/stats/Austrian-Bundesliga-Stats\"\n",
    "aus1_stand = scrape_fbref_stats(url1)\n",
    "# SHOOTING\n",
    "url2 = \"https://fbref.com/en/comps/56/shooting/Austrian-Bundesliga-Stats\"\n",
    "aus1_shooting = scrape_fbref_stats(url2)\n",
    "# MISCELLANEOUS\n",
    "url3 = \"https://fbref.com/en/comps/56/misc/Austrian-Bundesliga-Stats\"\n",
    "aus1_misc = scrape_fbref_stats(url3)"
   ]
  },
  {
   "cell_type": "code",
   "execution_count": 1027,
   "id": "51d14620-79ed-455d-a56c-82afe4a897b8",
   "metadata": {},
   "outputs": [
    {
     "name": "stdout",
     "output_type": "stream",
     "text": [
      "(358, 25) (358, 20) (358, 21)\n"
     ]
    },
    {
     "data": {
      "text/plain": [
       "(358, 63)"
      ]
     },
     "execution_count": 1027,
     "metadata": {},
     "output_type": "execute_result"
    }
   ],
   "source": [
    "# Aggregate data\n",
    "aus1_agg = join_player_tables([aus1_stand, aus1_shooting, aus1_misc], 'aus1')\n",
    "\n",
    "# Check number of columns and rows\n",
    "print(aus1_stand.shape, aus1_shooting.shape, aus1_misc.shape)\n",
    "aus1_agg.shape"
   ]
  },
  {
   "cell_type": "markdown",
   "id": "6e3f1b36-fd58-45c4-b7fb-98ce475912ec",
   "metadata": {},
   "source": [
    "## Belgium"
   ]
  },
  {
   "cell_type": "markdown",
   "id": "93a05017-96d0-403b-9dc5-eb4100715ff4",
   "metadata": {},
   "source": [
    "### BEL 1 - Standard Stats, Shooting, Miscellaneous, Passing, Defensive and Possession"
   ]
  },
  {
   "cell_type": "code",
   "execution_count": 1030,
   "id": "b96eb66c-d880-4edd-b0df-9efcd98a9030",
   "metadata": {},
   "outputs": [],
   "source": [
    "# STANDARD STATS\n",
    "url1 = \"https://fbref.com/en/comps/37/stats/Belgian-Pro-League-Stats\"\n",
    "bel1_stand = scrape_fbref_stats(url1)\n",
    "# SHOOTING\n",
    "url2 = \"https://fbref.com/en/comps/37/shooting/Belgian-Pro-League-Stats\"\n",
    "bel1_shooting = scrape_fbref_stats(url2)\n",
    "# MISCELLANEOUS\n",
    "url3 = \"https://fbref.com/en/comps/37/misc/Belgian-Pro-League-Stats\"\n",
    "bel1_misc = scrape_fbref_stats(url3)\n",
    "# PASSING\n",
    "url4= \"https://fbref.com/en/comps/37/passing/Belgian-Pro-League-Stats\"\n",
    "bel1_pass = scrape_fbref_stats(url4)\n",
    "# DEFENSIVE\n",
    "url5 = \"https://fbref.com/en/comps/37/defense/Belgian-Pro-League-Stats\"\n",
    "bel1_def= scrape_fbref_stats(url5)\n",
    "# POSSESSION\n",
    "url6 = \"https://fbref.com/en/comps/37/possession/Belgian-Pro-League-Stats\"\n",
    "bel1_pos= scrape_fbref_stats(url6)"
   ]
  },
  {
   "cell_type": "code",
   "execution_count": 1031,
   "id": "2991a92e-f3fd-44b6-bb34-19b916b5e7d8",
   "metadata": {},
   "outputs": [
    {
     "name": "stdout",
     "output_type": "stream",
     "text": [
      "(486, 37) (486, 26) (486, 25) (486, 32) (486, 25) (486, 31)\n"
     ]
    },
    {
     "data": {
      "text/plain": [
       "(486, 167)"
      ]
     },
     "execution_count": 1031,
     "metadata": {},
     "output_type": "execute_result"
    }
   ],
   "source": [
    "# Aggregate data\n",
    "bel1_agg = join_player_tables([bel1_stand, bel1_shooting, bel1_misc, bel1_pass, bel1_def, bel1_pos], 'bel1')\n",
    "\n",
    "# Check number of columns and rows\n",
    "print(bel1_stand.shape, bel1_shooting.shape, bel1_misc.shape, bel1_pass.shape, bel1_def.shape, bel1_pos.shape)\n",
    "bel1_agg.shape"
   ]
  },
  {
   "cell_type": "markdown",
   "id": "d9e605c6-bf0b-4002-af9a-19a9a2d9ae6a",
   "metadata": {},
   "source": [
    "### BEL 2 - Standard Stats, Shooting and Miscellaneous"
   ]
  },
  {
   "cell_type": "code",
   "execution_count": 1033,
   "id": "f6268961-2f03-4638-995c-4844ae87b610",
   "metadata": {},
   "outputs": [],
   "source": [
    "# STANDARD STATS\n",
    "url1 = \"https://fbref.com/en/comps/69/stats/Challenger-Pro-League-Stats\"\n",
    "bel2_stand = scrape_fbref_stats(url1)\n",
    "# SHOOTING\n",
    "url2 = \"https://fbref.com/en/comps/69/shooting/Challenger-Pro-League-Stats\"\n",
    "bel2_shooting = scrape_fbref_stats(url2)\n",
    "# MISCELLANEOUS\n",
    "url3 = \"https://fbref.com/en/comps/69/misc/Challenger-Pro-League-Stats\"\n",
    "bel2_misc = scrape_fbref_stats(url3)"
   ]
  },
  {
   "cell_type": "code",
   "execution_count": 1034,
   "id": "2387ec28-4ed0-4272-8395-356f68a79fc1",
   "metadata": {},
   "outputs": [
    {
     "name": "stdout",
     "output_type": "stream",
     "text": [
      "(459, 25) (459, 20) (459, 21)\n"
     ]
    },
    {
     "data": {
      "text/plain": [
       "(459, 63)"
      ]
     },
     "execution_count": 1034,
     "metadata": {},
     "output_type": "execute_result"
    }
   ],
   "source": [
    "# Aggregate data\n",
    "bel2_agg = join_player_tables([bel2_stand, bel2_shooting, bel2_misc], 'bel2')\n",
    "\n",
    "# Check number of columns and rows\n",
    "print(bel2_stand.shape, bel2_shooting.shape, bel2_misc.shape)\n",
    "bel2_agg.shape"
   ]
  },
  {
   "cell_type": "markdown",
   "id": "736edfb8-ae52-4eff-8a8b-7e0ed85877ef",
   "metadata": {},
   "source": [
    "## Bulgaria"
   ]
  },
  {
   "cell_type": "markdown",
   "id": "d1ba5c66-80cc-44c3-b43e-9674811c52a2",
   "metadata": {},
   "source": [
    "### BUL 1 - Standard Stats and Miscellaneous"
   ]
  },
  {
   "cell_type": "code",
   "execution_count": 1260,
   "id": "65a37ba9-7f89-492c-a97e-92b82f15657d",
   "metadata": {},
   "outputs": [],
   "source": [
    "# STANDARD STATS\n",
    "url1 = \"https://fbref.com/en/comps/67/2024-2025/stats/2024-2025-Bulgarian-First-League-Stats\"\n",
    "bul1_stand = scrape_fbref_stats(url1)\n",
    "# SHOOTING - NOT AVAILABLE\n",
    "# MISCELLANEOUS\n",
    "url3 = \"https://fbref.com/en/comps/67/2024-2025/misc/2024-2025-Bulgarian-First-League-Stats\"\n",
    "bul1_misc = scrape_fbref_stats(url3)"
   ]
  },
  {
   "cell_type": "code",
   "execution_count": 1261,
   "id": "bce384a4-33a9-43ac-88f4-2eac29c2273c",
   "metadata": {},
   "outputs": [
    {
     "name": "stdout",
     "output_type": "stream",
     "text": [
      "(556, 25) (556, 21)\n"
     ]
    },
    {
     "data": {
      "text/plain": [
       "(556, 45)"
      ]
     },
     "execution_count": 1261,
     "metadata": {},
     "output_type": "execute_result"
    }
   ],
   "source": [
    "# Aggregate data\n",
    "bul1_agg = join_player_tables([bul1_stand, bul1_misc], 'bul1')\n",
    "\n",
    "# Check number of columns and rows\n",
    "print(bul1_stand.shape, bul1_misc.shape)\n",
    "bul1_agg.shape"
   ]
  },
  {
   "cell_type": "markdown",
   "id": "5fae99e3-2533-4cde-8067-9eb381895b66",
   "metadata": {},
   "source": [
    "## Croatia"
   ]
  },
  {
   "cell_type": "markdown",
   "id": "b94f5f14-0803-4208-9585-4d3b48da1e9f",
   "metadata": {},
   "source": [
    "### CRO 1 - Standard Stats, Shooting and Miscellaneous"
   ]
  },
  {
   "cell_type": "code",
   "execution_count": 1037,
   "id": "de7f16ab-6a38-472b-8cfe-0e489f191d59",
   "metadata": {},
   "outputs": [],
   "source": [
    "# STANDARD STATS\n",
    "url1 = \"https://fbref.com/en/comps/63/stats/Hrvatska-NL-Stats\"\n",
    "cro1_stand = scrape_fbref_stats(url1)\n",
    "# SHOOTING\n",
    "url2 = \"https://fbref.com/en/comps/63/shooting/Hrvatska-NL-Stats\"\n",
    "cro1_shooting = scrape_fbref_stats(url2)\n",
    "# MISCELLANEOUS\n",
    "url3 = \"https://fbref.com/en/comps/63/misc/Hrvatska-NL-Stats\"\n",
    "cro1_misc = scrape_fbref_stats(url3)"
   ]
  },
  {
   "cell_type": "code",
   "execution_count": 1038,
   "id": "5a75d76e-7b80-4fb9-90f6-66a6db3bcf6b",
   "metadata": {},
   "outputs": [
    {
     "name": "stdout",
     "output_type": "stream",
     "text": [
      "(346, 25) (346, 20) (346, 21)\n"
     ]
    },
    {
     "data": {
      "text/plain": [
       "(346, 63)"
      ]
     },
     "execution_count": 1038,
     "metadata": {},
     "output_type": "execute_result"
    }
   ],
   "source": [
    "# Aggregate data\n",
    "cro1_agg = join_player_tables([cro1_stand, cro1_shooting, cro1_misc], 'cro1')\n",
    "\n",
    "# Check number of columns and rows\n",
    "print(cro1_stand.shape, cro1_shooting.shape, cro1_misc.shape)\n",
    "cro1_agg.shape"
   ]
  },
  {
   "cell_type": "markdown",
   "id": "4f5c958e-3e90-4bbd-865c-a14e0182b82d",
   "metadata": {},
   "source": [
    "## Czech Republic"
   ]
  },
  {
   "cell_type": "markdown",
   "id": "b31e7c8a-e86c-4325-bb21-0af9e75f498e",
   "metadata": {},
   "source": [
    "### CZE 1 - Standard Stats, Shooting and Miscellaneous"
   ]
  },
  {
   "cell_type": "code",
   "execution_count": 1041,
   "id": "0ef32d48-a933-49ac-b568-10429ecf54bb",
   "metadata": {},
   "outputs": [],
   "source": [
    "# STANDARD STATS\n",
    "url1 = \"https://fbref.com/en/comps/66/2024-2025/stats/2024-2025-Czech-First-League-Stats\"\n",
    "cze1_stand = scrape_fbref_stats(url1)\n",
    "# SHOOTING\n",
    "url2 = \"https://fbref.com/en/comps/66/2024-2025/shooting/2024-2025-Czech-First-League-Stats\"\n",
    "cze1_shooting = scrape_fbref_stats(url2)\n",
    "# MISCELLANEOUS\n",
    "url3 = \"https://fbref.com/en/comps/66/2024-2025/misc/2024-2025-Czech-First-League-Stats\"\n",
    "cze1_misc = scrape_fbref_stats(url3)"
   ]
  },
  {
   "cell_type": "code",
   "execution_count": 1042,
   "id": "dd553153-718b-4e06-ae28-955f7fffb81d",
   "metadata": {},
   "outputs": [
    {
     "name": "stdout",
     "output_type": "stream",
     "text": [
      "(545, 25) (545, 20) (545, 21)\n"
     ]
    },
    {
     "data": {
      "text/plain": [
       "(545, 63)"
      ]
     },
     "execution_count": 1042,
     "metadata": {},
     "output_type": "execute_result"
    }
   ],
   "source": [
    "# Aggregate data\n",
    "cze1_agg = join_player_tables([cze1_stand, cze1_shooting, cze1_misc], 'cze1')\n",
    "\n",
    "# Check number of columns and rows\n",
    "print(cze1_stand.shape, cze1_shooting.shape, cze1_misc.shape)\n",
    "cze1_agg.shape"
   ]
  },
  {
   "cell_type": "markdown",
   "id": "82fa481c-1f64-4b2d-933d-2a8000251bf2",
   "metadata": {},
   "source": [
    "## Denmark"
   ]
  },
  {
   "cell_type": "markdown",
   "id": "3b139c68-be55-4a98-8709-3e28a9d1098c",
   "metadata": {},
   "source": [
    "### DEN 1 - Standard Stats, Shooting and Miscellaneous"
   ]
  },
  {
   "cell_type": "code",
   "execution_count": 1045,
   "id": "73c80d0c-c8fe-4849-99a3-9c4e5e1379c8",
   "metadata": {},
   "outputs": [],
   "source": [
    "# STANDARD STATS\n",
    "url1 = \"https://fbref.com/en/comps/50/2024-2025/stats/2024-2025-Danish-Superliga-Stats\"\n",
    "den1_stand = scrape_fbref_stats(url1)\n",
    "# SHOOTING\n",
    "url2 = \"https://fbref.com/en/comps/50/2024-2025/shooting/2024-2025-Danish-Superliga-Stats\"\n",
    "den1_shooting = scrape_fbref_stats(url2)\n",
    "# MISCELLANEOUS\n",
    "url3 = \"https://fbref.com/en/comps/50/2024-2025/misc/2024-2025-Danish-Superliga-Stats\"\n",
    "den1_misc = scrape_fbref_stats(url3)"
   ]
  },
  {
   "cell_type": "code",
   "execution_count": 1046,
   "id": "49c2a305-3f32-4d04-9f7f-d80db7d7bbbb",
   "metadata": {},
   "outputs": [
    {
     "name": "stdout",
     "output_type": "stream",
     "text": [
      "(370, 25) (370, 20) (370, 21)\n"
     ]
    },
    {
     "data": {
      "text/plain": [
       "(370, 63)"
      ]
     },
     "execution_count": 1046,
     "metadata": {},
     "output_type": "execute_result"
    }
   ],
   "source": [
    "# Aggregate data\n",
    "den1_agg = join_player_tables([den1_stand, den1_shooting, den1_misc], 'den1')\n",
    "\n",
    "# Check number of columns and rows\n",
    "print(den1_stand.shape, den1_shooting.shape, den1_misc.shape)\n",
    "den1_agg.shape"
   ]
  },
  {
   "cell_type": "markdown",
   "id": "dd51378e-68e6-4f64-993c-714a6f098bf5",
   "metadata": {},
   "source": [
    "## England"
   ]
  },
  {
   "cell_type": "markdown",
   "id": "73f98450-d76b-40bd-ba83-de5f7cc70cc9",
   "metadata": {},
   "source": [
    "### ENG 1 - Standard Stats, Shooting, Miscellaneous, Passing, Defensive and Possession"
   ]
  },
  {
   "cell_type": "code",
   "execution_count": 1049,
   "id": "71e25771-cfea-42d4-a9e8-cc9d27b01bdc",
   "metadata": {},
   "outputs": [],
   "source": [
    "# STANDARD STATS\n",
    "url1 = \"https://fbref.com/en/comps/9/stats/Premier-League-Stats\"\n",
    "eng1_stand = scrape_fbref_stats(url1)\n",
    "# SHOOTING\n",
    "url2 = \"https://fbref.com/en/comps/9/shooting/Premier-League-Stats\"\n",
    "eng1_shooting = scrape_fbref_stats(url2)\n",
    "# MISCELLANEOUS\n",
    "url3 = \"https://fbref.com/en/comps/9/misc/Premier-League-Stats\"\n",
    "eng1_misc = scrape_fbref_stats(url3)\n",
    "# PASSING\n",
    "url4= \"https://fbref.com/en/comps/9/passing/Premier-League-Stats\"\n",
    "eng1_pass = scrape_fbref_stats(url4)\n",
    "# DEFENSIVE\n",
    "url5 = \"https://fbref.com/en/comps/9/defense/Premier-League-Stats\"\n",
    "eng1_def= scrape_fbref_stats(url5)\n",
    "# POSSESSION\n",
    "url6 = \"https://fbref.com/en/comps/9/possession/Premier-League-Stats\"\n",
    "eng1_pos= scrape_fbref_stats(url6)"
   ]
  },
  {
   "cell_type": "code",
   "execution_count": 1050,
   "id": "9f644d0f-c410-4cb3-9e5d-91463939d7a9",
   "metadata": {},
   "outputs": [
    {
     "name": "stdout",
     "output_type": "stream",
     "text": [
      "(574, 37) (574, 26) (574, 25) (574, 32) (574, 25) (574, 31)\n"
     ]
    },
    {
     "data": {
      "text/plain": [
       "(574, 167)"
      ]
     },
     "execution_count": 1050,
     "metadata": {},
     "output_type": "execute_result"
    }
   ],
   "source": [
    "# Aggregate data\n",
    "eng1_agg = join_player_tables([eng1_stand, eng1_shooting, eng1_misc, eng1_pass, eng1_def, eng1_pos], 'eng1')\n",
    "\n",
    "# Check number of columns and rows\n",
    "print(eng1_stand.shape, eng1_shooting.shape, eng1_misc.shape, eng1_pass.shape, eng1_def.shape, eng1_pos.shape)\n",
    "eng1_agg.shape"
   ]
  },
  {
   "cell_type": "markdown",
   "id": "ec7d5403-6186-479f-9274-7720139e8402",
   "metadata": {},
   "source": [
    "### ENG 2 - Standard Stats, Shooting, Miscellaneous, Passing, Defensive and Possession"
   ]
  },
  {
   "cell_type": "code",
   "execution_count": 1052,
   "id": "871a902a-b1f7-4c8c-8fce-08bf9b8f7c5b",
   "metadata": {},
   "outputs": [],
   "source": [
    "# STANDARD STATS\n",
    "url1 = \"https://fbref.com/en/comps/10/stats/Championship-Stats\"\n",
    "eng2_stand = scrape_fbref_stats(url1)\n",
    "# SHOOTING\n",
    "url2 = \"https://fbref.com/en/comps/10/shooting/Championship-Stats\"\n",
    "eng2_shooting = scrape_fbref_stats(url2)\n",
    "# MISCELLANEOUS\n",
    "url3 = \"https://fbref.com/en/comps/10/misc/Championship-Stats\"\n",
    "eng2_misc = scrape_fbref_stats(url3)\n",
    "# PASSING\n",
    "url4= \"https://fbref.com/en/comps/10/passing/Championship-Stats\"\n",
    "eng2_pass = scrape_fbref_stats(url4)\n",
    "# DEFENSIVE\n",
    "url5 = \"https://fbref.com/en/comps/10/defense/Championship-Stats\"\n",
    "eng2_def= scrape_fbref_stats(url5)\n",
    "# POSSESSION\n",
    "url6 = \"https://fbref.com/en/comps/10/possession/Championship-Stats\"\n",
    "eng2_pos= scrape_fbref_stats(url6)"
   ]
  },
  {
   "cell_type": "code",
   "execution_count": 1053,
   "id": "d0ffc2c0-9857-421a-b1eb-82c9f333aeb7",
   "metadata": {},
   "outputs": [
    {
     "name": "stdout",
     "output_type": "stream",
     "text": [
      "(765, 37) (765, 26) (765, 25) (765, 32) (765, 25) (765, 31)\n"
     ]
    },
    {
     "data": {
      "text/plain": [
       "(765, 167)"
      ]
     },
     "execution_count": 1053,
     "metadata": {},
     "output_type": "execute_result"
    }
   ],
   "source": [
    "# Aggregate data\n",
    "eng2_agg = join_player_tables([eng2_stand, eng2_shooting, eng2_misc, eng2_pass, eng2_def, eng2_pos], 'eng2')\n",
    "\n",
    "# Check number of columns and rows\n",
    "print(eng2_stand.shape, eng2_shooting.shape, eng2_misc.shape, eng2_pass.shape, eng2_def.shape, eng2_pos.shape)\n",
    "eng2_agg.shape"
   ]
  },
  {
   "cell_type": "markdown",
   "id": "425221a2-aee0-4328-adeb-c1cceeca81c7",
   "metadata": {},
   "source": [
    "### ENG 3 - Standard Stats, Shooting and Miscellaneous"
   ]
  },
  {
   "cell_type": "code",
   "execution_count": 1055,
   "id": "b0a40a4c-5885-4ab6-875e-cc660cd8bf33",
   "metadata": {},
   "outputs": [],
   "source": [
    "# STANDARD STATS\n",
    "url1 = \"https://fbref.com/en/comps/15/stats/League-One-Stats\"\n",
    "eng3_stand = scrape_fbref_stats(url1)\n",
    "# SHOOTING\n",
    "url2 = \"https://fbref.com/en/comps/15/shooting/League-One-Stats\"\n",
    "eng3_shooting = scrape_fbref_stats(url2)\n",
    "# MISCELLANEOUS\n",
    "url3 = \"https://fbref.com/en/comps/15/misc/League-One-Stats\"\n",
    "eng3_misc = scrape_fbref_stats(url3)"
   ]
  },
  {
   "cell_type": "code",
   "execution_count": 1056,
   "id": "ec921d6a-14c7-4a26-8242-3990d5d6d2e5",
   "metadata": {},
   "outputs": [
    {
     "name": "stdout",
     "output_type": "stream",
     "text": [
      "(785, 25) (785, 20) (785, 21)\n"
     ]
    },
    {
     "data": {
      "text/plain": [
       "(785, 63)"
      ]
     },
     "execution_count": 1056,
     "metadata": {},
     "output_type": "execute_result"
    }
   ],
   "source": [
    "# Aggregate data\n",
    "eng3_agg = join_player_tables([eng3_stand, eng3_shooting, eng3_misc], 'eng3')\n",
    "\n",
    "# Check number of columns and rows\n",
    "print(eng3_stand.shape, eng3_shooting.shape, eng3_misc.shape)\n",
    "eng3_agg.shape"
   ]
  },
  {
   "cell_type": "markdown",
   "id": "89853981-995a-47c6-b4d8-55d635164cf8",
   "metadata": {},
   "source": [
    "## Finland"
   ]
  },
  {
   "cell_type": "markdown",
   "id": "bce33fef-9440-4c7d-8b1d-0efc758723da",
   "metadata": {},
   "source": [
    "### FIN 1 - Standard Stats, Shooting and Miscellaneous"
   ]
  },
  {
   "cell_type": "code",
   "execution_count": 1264,
   "id": "31deaafd-a700-4720-a865-04ec4a8c6033",
   "metadata": {},
   "outputs": [],
   "source": [
    "# STANDARD STATS\n",
    "url1 = \"https://fbref.com/en/comps/43/stats/Veikkausliiga-Stats\"\n",
    "fin1_stand = scrape_fbref_stats(url1)\n",
    "# SHOOTING\n",
    "url2 = \"https://fbref.com/en/comps/43/shooting/Veikkausliiga-Stats\"\n",
    "fin1_shooting = scrape_fbref_stats(url2)\n",
    "# MISCELLANEOUS\n",
    "url3 = \"https://fbref.com/en/comps/43/misc/Veikkausliiga-Stats\"\n",
    "fin1_misc = scrape_fbref_stats(url3)"
   ]
  },
  {
   "cell_type": "code",
   "execution_count": 1266,
   "id": "78d52eda-a002-4253-a948-cf88785e7bf2",
   "metadata": {},
   "outputs": [
    {
     "name": "stdout",
     "output_type": "stream",
     "text": [
      "(296, 25) (296, 20) (296, 21)\n"
     ]
    },
    {
     "data": {
      "text/plain": [
       "(296, 63)"
      ]
     },
     "execution_count": 1266,
     "metadata": {},
     "output_type": "execute_result"
    }
   ],
   "source": [
    "# Aggregate data\n",
    "fin1_agg = join_player_tables([fin1_stand, fin1_shooting, fin1_misc], 'fin1')\n",
    "\n",
    "# Check number of columns and rows\n",
    "print(fin1_stand.shape, fin1_shooting.shape, fin1_misc.shape)\n",
    "fin1_agg.shape"
   ]
  },
  {
   "cell_type": "markdown",
   "id": "e65c1f51-c3e5-4ffd-929e-2888cbc094cc",
   "metadata": {},
   "source": [
    "## France"
   ]
  },
  {
   "cell_type": "markdown",
   "id": "0a5ccb6f-aa07-454b-bdbc-3761b57ba4b8",
   "metadata": {},
   "source": [
    "### FRA 1 - Standard Stats, Shooting, Miscellaneous, Passing, Defensive and Possession"
   ]
  },
  {
   "cell_type": "code",
   "execution_count": 1059,
   "id": "dadf905b-a12c-4fb2-b010-d3203de50219",
   "metadata": {},
   "outputs": [],
   "source": [
    "# STANDARD STATS\n",
    "url1 = \"https://fbref.com/en/comps/13/stats/Ligue-1-Stats\"\n",
    "fra1_stand = scrape_fbref_stats(url1)\n",
    "# SHOOTING\n",
    "url2 = \"https://fbref.com/en/comps/13/shooting/Ligue-1-Stats\"\n",
    "fra1_shooting = scrape_fbref_stats(url2)\n",
    "# MISCELLANEOUS\n",
    "url3 = \"https://fbref.com/en/comps/13/misc/Ligue-1-Stats\"\n",
    "fra1_misc = scrape_fbref_stats(url3)\n",
    "# PASSING\n",
    "url4= \"https://fbref.com/en/comps/13/passing/Ligue-1-Stats\"\n",
    "fra1_pass = scrape_fbref_stats(url4)\n",
    "# DEFENSIVE\n",
    "url5 = \"https://fbref.com/en/comps/13/defense/Ligue-1-Stats\"\n",
    "fra1_def= scrape_fbref_stats(url5)\n",
    "# POSSESSION\n",
    "url6 = \"https://fbref.com/en/comps/13/possession/Ligue-1-Stats\"\n",
    "fra1_pos= scrape_fbref_stats(url6)"
   ]
  },
  {
   "cell_type": "code",
   "execution_count": 1060,
   "id": "6d0df2a5-c61a-400a-aa5d-0b6f3fe8eb31",
   "metadata": {},
   "outputs": [
    {
     "name": "stdout",
     "output_type": "stream",
     "text": [
      "(553, 37) (553, 26) (553, 25) (553, 32) (553, 25) (553, 31)\n"
     ]
    },
    {
     "data": {
      "text/plain": [
       "(553, 167)"
      ]
     },
     "execution_count": 1060,
     "metadata": {},
     "output_type": "execute_result"
    }
   ],
   "source": [
    "# Aggregate data\n",
    "fra1_agg = join_player_tables([fra1_stand, fra1_shooting, fra1_misc, fra1_pass, fra1_def, fra1_pos], 'fra1')\n",
    "\n",
    "# Check number of columns and rows\n",
    "print(fra1_stand.shape, fra1_shooting.shape, fra1_misc.shape, fra1_pass.shape, fra1_def.shape, fra1_pos.shape)\n",
    "fra1_agg.shape"
   ]
  },
  {
   "cell_type": "markdown",
   "id": "50c15116-c300-4e9f-ae06-04022a26c5e7",
   "metadata": {},
   "source": [
    "### FRA 2 - Standard Stats, Shooting and Miscellaneous"
   ]
  },
  {
   "cell_type": "code",
   "execution_count": 1062,
   "id": "3f550e2a-1a6b-4e54-a500-b4ee837d1f5d",
   "metadata": {},
   "outputs": [],
   "source": [
    "# STANDARD STATS\n",
    "url1 = \"https://fbref.com/en/comps/60/stats/Ligue-2-Stats\"\n",
    "fra2_stand = scrape_fbref_stats(url1)\n",
    "# SHOOTING\n",
    "url2 = \"https://fbref.com/en/comps/60/shooting/Ligue-2-Stats\"\n",
    "fra2_shooting = scrape_fbref_stats(url2)\n",
    "# MISCELLANEOUS\n",
    "url3 = \"https://fbref.com/en/comps/60/misc/Ligue-2-Stats\"\n",
    "fra2_misc = scrape_fbref_stats(url3)"
   ]
  },
  {
   "cell_type": "code",
   "execution_count": 1063,
   "id": "9d8629f0-3739-4543-be33-e81b99797ebd",
   "metadata": {},
   "outputs": [
    {
     "name": "stdout",
     "output_type": "stream",
     "text": [
      "(528, 25) (528, 20) (528, 21)\n"
     ]
    },
    {
     "data": {
      "text/plain": [
       "(528, 63)"
      ]
     },
     "execution_count": 1063,
     "metadata": {},
     "output_type": "execute_result"
    }
   ],
   "source": [
    "# Aggregate data\n",
    "fra2_agg = join_player_tables([fra2_stand, fra2_shooting, fra2_misc], 'fra2')\n",
    "\n",
    "# Check number of columns and rows\n",
    "print(fra2_stand.shape, fra2_shooting.shape, fra2_misc.shape)\n",
    "fra2_agg.shape"
   ]
  },
  {
   "cell_type": "markdown",
   "id": "c9ec3382-e908-4974-80aa-0bf04b527ef5",
   "metadata": {},
   "source": [
    "## Germany"
   ]
  },
  {
   "cell_type": "markdown",
   "id": "4b66a493-10fb-47c6-850e-0db5d86a3a2a",
   "metadata": {},
   "source": [
    "### GER 1 - Standard Stats, Shooting, Miscellaneous, Passing, Defensive and Possession"
   ]
  },
  {
   "cell_type": "code",
   "execution_count": 1066,
   "id": "c8af4abe-28d3-4498-9957-18397bbe1449",
   "metadata": {},
   "outputs": [],
   "source": [
    "# STANDARD STATS\n",
    "url1 = \"https://fbref.com/en/comps/20/stats/Bundesliga-Stats\"\n",
    "ger1_stand = scrape_fbref_stats(url1)\n",
    "# SHOOTING\n",
    "url2 = \"https://fbref.com/en/comps/20/shooting/Bundesliga-Stats\"\n",
    "ger1_shooting = scrape_fbref_stats(url2)\n",
    "# MISCELLANEOUS\n",
    "url3 = \"https://fbref.com/en/comps/20/misc/Bundesliga-Stats\"\n",
    "ger1_misc = scrape_fbref_stats(url3)\n",
    "# PASSING\n",
    "url4= \"https://fbref.com/en/comps/20/passing/Bundesliga-Stats\"\n",
    "ger1_pass = scrape_fbref_stats(url4)\n",
    "# DEFENSIVE\n",
    "url5 = \"https://fbref.com/en/comps/20/defense/Bundesliga-Stats\"\n",
    "ger1_def= scrape_fbref_stats(url5)\n",
    "# POSSESSION\n",
    "url6 = \"https://fbref.com/en/comps/20/possession/Bundesliga-Stats\"\n",
    "ger1_pos= scrape_fbref_stats(url6)"
   ]
  },
  {
   "cell_type": "code",
   "execution_count": 1067,
   "id": "07c415d8-d8fc-408b-abc8-e4feb1fdd202",
   "metadata": {},
   "outputs": [
    {
     "name": "stdout",
     "output_type": "stream",
     "text": [
      "(492, 37) (492, 26) (492, 25) (492, 32) (492, 25) (492, 31)\n"
     ]
    },
    {
     "data": {
      "text/plain": [
       "(492, 167)"
      ]
     },
     "execution_count": 1067,
     "metadata": {},
     "output_type": "execute_result"
    }
   ],
   "source": [
    "# Aggregate data\n",
    "ger1_agg = join_player_tables([ger1_stand, ger1_shooting, ger1_misc, ger1_pass, ger1_def, ger1_pos], 'ger1')\n",
    "\n",
    "# Check number of columns and rows\n",
    "print(ger1_stand.shape, ger1_shooting.shape, ger1_misc.shape, ger1_pass.shape, ger1_def.shape, ger1_pos.shape)\n",
    "ger1_agg.shape"
   ]
  },
  {
   "cell_type": "markdown",
   "id": "6ab1b5c8-af6e-4cfc-8751-a4909bf9ab40",
   "metadata": {},
   "source": [
    "### GER 2 - Standard Stats, Shooting and Miscellaneous"
   ]
  },
  {
   "cell_type": "code",
   "execution_count": 1069,
   "id": "27d0fb88-818c-4ab2-aa0b-2a84e7cba273",
   "metadata": {},
   "outputs": [],
   "source": [
    "# STANDARD STATS\n",
    "url1 = \"https://fbref.com/en/comps/33/stats/2-Bundesliga-Stats\"\n",
    "ger2_stand = scrape_fbref_stats(url1)\n",
    "# SHOOTING\n",
    "url2 = \"https://fbref.com/en/comps/33/shooting/2-Bundesliga-Stats\"\n",
    "ger2_shooting = scrape_fbref_stats(url2)\n",
    "# MISCELLANEOUS\n",
    "url3 = \"https://fbref.com/en/comps/33/misc/2-Bundesliga-Stats\"\n",
    "ger2_misc = scrape_fbref_stats(url3)"
   ]
  },
  {
   "cell_type": "code",
   "execution_count": 1070,
   "id": "f773c943-1fe1-43da-a5df-76157a446f27",
   "metadata": {},
   "outputs": [
    {
     "name": "stdout",
     "output_type": "stream",
     "text": [
      "(536, 25) (536, 20) (536, 21)\n"
     ]
    },
    {
     "data": {
      "text/plain": [
       "(536, 63)"
      ]
     },
     "execution_count": 1070,
     "metadata": {},
     "output_type": "execute_result"
    }
   ],
   "source": [
    "# Aggregate data\n",
    "ger2_agg = join_player_tables([ger2_stand, ger2_shooting, ger2_misc], 'ger2')\n",
    "\n",
    "# Check number of columns and rows\n",
    "print(ger2_stand.shape, ger2_shooting.shape, ger2_misc.shape)\n",
    "ger2_agg.shape"
   ]
  },
  {
   "cell_type": "markdown",
   "id": "47ad8e08-1153-43a2-ae4a-b312650f0cfc",
   "metadata": {},
   "source": [
    "### GER 3 - Standard Stats and Miscellaneous"
   ]
  },
  {
   "cell_type": "code",
   "execution_count": 1072,
   "id": "ddef1841-ba37-478e-8d86-4efb738eca04",
   "metadata": {},
   "outputs": [],
   "source": [
    "# STANDARD STATS\n",
    "url1 = \"https://fbref.com/en/comps/59/stats/3-Liga-Stats\"\n",
    "ger3_stand = scrape_fbref_stats(url1)\n",
    "# SHOOTING - NOT AVAILABLE\n",
    "# MISCELLANEOUS\n",
    "url3 = \"https://fbref.com/en/comps/59/misc/3-Liga-Stats\"\n",
    "ger3_misc = scrape_fbref_stats(url3)"
   ]
  },
  {
   "cell_type": "code",
   "execution_count": 1073,
   "id": "695bd950-3846-43a1-a924-47b948e51dda",
   "metadata": {},
   "outputs": [
    {
     "name": "stdout",
     "output_type": "stream",
     "text": [
      "(602, 25) (602, 21)\n"
     ]
    },
    {
     "data": {
      "text/plain": [
       "(602, 45)"
      ]
     },
     "execution_count": 1073,
     "metadata": {},
     "output_type": "execute_result"
    }
   ],
   "source": [
    "# Aggregate data\n",
    "ger3_agg = join_player_tables([ger3_stand, ger3_misc], 'ger3')\n",
    "\n",
    "# Check number of columns and rows\n",
    "print(ger3_stand.shape, ger3_misc.shape)\n",
    "ger3_agg.shape"
   ]
  },
  {
   "cell_type": "markdown",
   "id": "0af6c285-1df7-476a-a65f-d44c2a02a5b5",
   "metadata": {},
   "source": [
    "## Greece"
   ]
  },
  {
   "cell_type": "markdown",
   "id": "05949627-d35d-433b-a264-e85f42aa8b08",
   "metadata": {},
   "source": [
    "### GRE 1 - Standard Stats and Miscellaneous"
   ]
  },
  {
   "cell_type": "code",
   "execution_count": 1076,
   "id": "8fad2173-2402-4447-b0a5-63934294f919",
   "metadata": {},
   "outputs": [],
   "source": [
    "# STANDARD STATS\n",
    "url1 = \"https://fbref.com/en/comps/27/stats/Super-League-Greece-Stats\"\n",
    "gre1_stand = scrape_fbref_stats(url1)\n",
    "# SHOOTING - NOT AVAILABLE\n",
    "# MISCELLANEOUS\n",
    "url3 = \"https://fbref.com/en/comps/27/misc/Super-League-Greece-Stats\"\n",
    "gre1_misc = scrape_fbref_stats(url3)"
   ]
  },
  {
   "cell_type": "code",
   "execution_count": 1077,
   "id": "1e8b3e36-3f2c-4812-93fe-414719103ce4",
   "metadata": {},
   "outputs": [
    {
     "name": "stdout",
     "output_type": "stream",
     "text": [
      "(446, 25) (446, 21)\n"
     ]
    },
    {
     "data": {
      "text/plain": [
       "(446, 45)"
      ]
     },
     "execution_count": 1077,
     "metadata": {},
     "output_type": "execute_result"
    }
   ],
   "source": [
    "# Aggregate data\n",
    "gre1_agg = join_player_tables([gre1_stand, gre1_misc], 'gre1')\n",
    "\n",
    "# Check number of columns and rows\n",
    "print(gre1_stand.shape, gre1_misc.shape)\n",
    "gre1_agg.shape"
   ]
  },
  {
   "cell_type": "markdown",
   "id": "1eec26fe-df26-4a79-91a7-1cb6179bcd64",
   "metadata": {},
   "source": [
    "## Hungary"
   ]
  },
  {
   "cell_type": "markdown",
   "id": "1e7cca45-4628-4000-892e-4168ea879766",
   "metadata": {},
   "source": [
    "### HUN 1 - Standard Stats, Shooting and Miscellaneous"
   ]
  },
  {
   "cell_type": "code",
   "execution_count": 1236,
   "id": "e19a9045-4a8e-4e34-9b6c-ef12176fc033",
   "metadata": {},
   "outputs": [],
   "source": [
    "# STANDARD STATS\n",
    "url1 = \"https://fbref.com/en/comps/46/2024-2025/stats/2024-2025-NB-I-Stats\"\n",
    "hun1_stand = scrape_fbref_stats(url1)\n",
    "# SHOOTING\n",
    "url2 = \"https://fbref.com/en/comps/46/2024-2025/shooting/2024-2025-NB-I-Stats\"\n",
    "hun1_shooting = scrape_fbref_stats(url2)\n",
    "# MISCELLANEOUS\n",
    "url3 = \"https://fbref.com/en/comps/46/2024-2025/misc/2024-2025-NB-I-Stats\"\n",
    "hun1_misc = scrape_fbref_stats(url3)"
   ]
  },
  {
   "cell_type": "code",
   "execution_count": 1237,
   "id": "ed6e9ffa-771e-44c9-8a83-4d4ed94e3465",
   "metadata": {},
   "outputs": [
    {
     "name": "stdout",
     "output_type": "stream",
     "text": [
      "(388, 25) (388, 20) (388, 21)\n"
     ]
    },
    {
     "data": {
      "text/plain": [
       "(388, 63)"
      ]
     },
     "execution_count": 1237,
     "metadata": {},
     "output_type": "execute_result"
    }
   ],
   "source": [
    "# Aggregate data\n",
    "hun1_agg = join_player_tables([hun1_stand, hun1_shooting, hun1_misc], 'hun1')\n",
    "\n",
    "# Check number of columns and rows\n",
    "print(hun1_stand.shape, hun1_shooting.shape, hun1_misc.shape)\n",
    "hun1_agg.shape"
   ]
  },
  {
   "cell_type": "markdown",
   "id": "3218905a-dc46-48b9-b362-b628c1d17516",
   "metadata": {},
   "source": [
    "## Italy"
   ]
  },
  {
   "cell_type": "markdown",
   "id": "3b4d7161-fd3a-4369-824a-efed9645c968",
   "metadata": {},
   "source": [
    "### ITA 1 - Standard Stats, Shooting, Miscellaneous, Passing, Defensive and Possession"
   ]
  },
  {
   "cell_type": "code",
   "execution_count": 1080,
   "id": "930fa6d3-402c-4edb-8fc1-0ccde29bbebe",
   "metadata": {},
   "outputs": [],
   "source": [
    "# STANDARD STATS\n",
    "url1 = \"https://fbref.com/en/comps/11/stats/Serie-A-Stats\"\n",
    "ita1_stand = scrape_fbref_stats(url1)\n",
    "# SHOOTING\n",
    "url2 = \"https://fbref.com/en/comps/11/shooting/Serie-A-Stats\"\n",
    "ita1_shooting = scrape_fbref_stats(url2)\n",
    "# MISCELLANEOUS\n",
    "url3 = \"https://fbref.com/en/comps/11/misc/Serie-A-Stats\"\n",
    "ita1_misc = scrape_fbref_stats(url3)\n",
    "# PASSING\n",
    "url4= \"https://fbref.com/en/comps/11/passing/Serie-A-Stats\"\n",
    "ita1_pass = scrape_fbref_stats(url4)\n",
    "# DEFENSIVE\n",
    "url5 = \"https://fbref.com/en/comps/11/defense/Serie-A-Stats\"\n",
    "ita1_def= scrape_fbref_stats(url5)\n",
    "# POSSESSION\n",
    "url6 = \"https://fbref.com/en/comps/11/possession/Serie-A-Stats\"\n",
    "ita1_pos= scrape_fbref_stats(url6)"
   ]
  },
  {
   "cell_type": "code",
   "execution_count": 1081,
   "id": "6afd4b89-a076-41e2-b7db-c26a76566f28",
   "metadata": {},
   "outputs": [
    {
     "name": "stdout",
     "output_type": "stream",
     "text": [
      "(634, 37) (634, 26) (634, 25) (634, 32) (634, 25) (634, 31)\n"
     ]
    },
    {
     "data": {
      "text/plain": [
       "(634, 167)"
      ]
     },
     "execution_count": 1081,
     "metadata": {},
     "output_type": "execute_result"
    }
   ],
   "source": [
    "# Aggregate data\n",
    "ita1_agg = join_player_tables([ita1_stand, ita1_shooting, ita1_misc, ita1_pass, ita1_def, ita1_pos], 'ita1')\n",
    "\n",
    "# Check number of columns and rows\n",
    "print(ita1_stand.shape, ita1_shooting.shape, ita1_misc.shape, ita1_pass.shape, ita1_def.shape, ita1_pos.shape)\n",
    "ita1_agg.shape"
   ]
  },
  {
   "cell_type": "markdown",
   "id": "b74e42a1-2d5a-46a1-9eae-7f115466c6c4",
   "metadata": {},
   "source": [
    "### ITA 2 - Standard Stats, Shooting, Miscellaneous, Passing, Defensive and Possession"
   ]
  },
  {
   "cell_type": "code",
   "execution_count": 1083,
   "id": "50fd9217-9878-4b55-a960-bf1687ddb2b2",
   "metadata": {},
   "outputs": [],
   "source": [
    "# STANDARD STATS\n",
    "url1 = \"https://fbref.com/en/comps/18/stats/Serie-B-Stats\"\n",
    "ita2_stand = scrape_fbref_stats(url1)\n",
    "# SHOOTING\n",
    "url2 = \"https://fbref.com/en/comps/18/shooting/Serie-B-Stats\"\n",
    "ita2_shooting = scrape_fbref_stats(url2)\n",
    "# MISCELLANEOUS\n",
    "url3 = \"https://fbref.com/en/comps/18/misc/Serie-B-Stats\"\n",
    "ita2_misc = scrape_fbref_stats(url3)\n",
    "# PASSING\n",
    "url4= \"https://fbref.com/en/comps/18/passing/Serie-B-Stats\"\n",
    "ita2_pass = scrape_fbref_stats(url4)\n",
    "# DEFENSIVE\n",
    "url5 = \"https://fbref.com/en/comps/18/defense/Serie-B-Stats\"\n",
    "ita2_def= scrape_fbref_stats(url5)\n",
    "# POSSESSION\n",
    "url6 = \"https://fbref.com/en/comps/18/possession/Serie-B-Stats\"\n",
    "ita2_pos= scrape_fbref_stats(url6)"
   ]
  },
  {
   "cell_type": "code",
   "execution_count": 1084,
   "id": "49f7ed58-72e3-4a6d-aaf8-41694375b50d",
   "metadata": {},
   "outputs": [
    {
     "name": "stdout",
     "output_type": "stream",
     "text": [
      "(625, 37) (625, 26) (625, 25) (625, 32) (625, 25) (625, 31)\n"
     ]
    },
    {
     "data": {
      "text/plain": [
       "(625, 167)"
      ]
     },
     "execution_count": 1084,
     "metadata": {},
     "output_type": "execute_result"
    }
   ],
   "source": [
    "# Aggregate data\n",
    "ita2_agg = join_player_tables([ita2_stand, ita2_shooting, ita2_misc, ita2_pass, ita2_def, ita2_pos], 'ita2')\n",
    "\n",
    "# Check number of columns and rows\n",
    "print(ita2_stand.shape, ita2_shooting.shape, ita2_misc.shape, ita2_pass.shape, ita2_def.shape, ita2_pos.shape)\n",
    "ita2_agg.shape"
   ]
  },
  {
   "cell_type": "markdown",
   "id": "67e1fa8b-05af-4072-a610-9b4c0ffbad70",
   "metadata": {},
   "source": [
    "## Netherlands"
   ]
  },
  {
   "cell_type": "markdown",
   "id": "f6e9fa30-745f-4c56-b7e9-6ec27d023261",
   "metadata": {},
   "source": [
    "### HOL 1 - Standard Stats, Shooting, Miscellaneous, Passing, Defensive and Possession"
   ]
  },
  {
   "cell_type": "code",
   "execution_count": 1087,
   "id": "0c14fbd6-7449-4430-9ced-b015900355b9",
   "metadata": {},
   "outputs": [],
   "source": [
    "# STANDARD STATS\n",
    "url1 = \"https://fbref.com/en/comps/23/stats/Eredivisie-Stats\"\n",
    "hol1_stand = scrape_fbref_stats(url1)\n",
    "# SHOOTING\n",
    "url2 = \"https://fbref.com/en/comps/23/shooting/Eredivisie-Stats\"\n",
    "hol1_shooting = scrape_fbref_stats(url2)\n",
    "# MISCELLANEOUS\n",
    "url3 = \"https://fbref.com/en/comps/23/misc/Eredivisie-Stats\"\n",
    "hol1_misc = scrape_fbref_stats(url3)\n",
    "# PASSING\n",
    "url4= \"https://fbref.com/en/comps/23/passing/Eredivisie-Stats\"\n",
    "hol1_pass = scrape_fbref_stats(url4)\n",
    "# DEFENSIVE\n",
    "url5 = \"https://fbref.com/en/comps/23/defense/Eredivisie-Stats\"\n",
    "hol1_def= scrape_fbref_stats(url5)\n",
    "# POSSESSION\n",
    "url6 = \"https://fbref.com/en/comps/23/possession/Eredivisie-Stats\"\n",
    "hol1_pos= scrape_fbref_stats(url6)"
   ]
  },
  {
   "cell_type": "code",
   "execution_count": 1088,
   "id": "f06ceabd-098c-46af-92b6-3f72c9e3cb49",
   "metadata": {},
   "outputs": [
    {
     "name": "stdout",
     "output_type": "stream",
     "text": [
      "(534, 37) (534, 26) (534, 25) (534, 32) (534, 25) (534, 31)\n"
     ]
    },
    {
     "data": {
      "text/plain": [
       "(534, 167)"
      ]
     },
     "execution_count": 1088,
     "metadata": {},
     "output_type": "execute_result"
    }
   ],
   "source": [
    "# Aggregate data\n",
    "hol1_agg = join_player_tables([hol1_stand, hol1_shooting, hol1_misc, hol1_pass, hol1_def, hol1_pos], 'hol1')\n",
    "\n",
    "# Check number of columns and rows\n",
    "print(hol1_stand.shape, hol1_shooting.shape, hol1_misc.shape, hol1_pass.shape, hol1_def.shape, hol1_pos.shape)\n",
    "hol1_agg.shape"
   ]
  },
  {
   "cell_type": "markdown",
   "id": "8ed0c7fe-6ef0-4d2f-8b10-450b9eddf82b",
   "metadata": {},
   "source": [
    "### HOL 2 - Standard Stats, Shooting and Miscellaneous"
   ]
  },
  {
   "cell_type": "code",
   "execution_count": 1090,
   "id": "d7ec5be1-ac63-472a-8d58-5da117f30cf3",
   "metadata": {},
   "outputs": [],
   "source": [
    "# STANDARD STATS\n",
    "url1 = \"https://fbref.com/en/comps/51/stats/Eerste-Divisie-Stats\"\n",
    "hol2_stand = scrape_fbref_stats(url1)\n",
    "# SHOOTING\n",
    "url2 = \"https://fbref.com/en/comps/51/shooting/Eerste-Divisie-Stats\"\n",
    "hol2_shooting = scrape_fbref_stats(url2)\n",
    "# MISCELLANEOUS\n",
    "url3 = \"https://fbref.com/en/comps/51/misc/Eerste-Divisie-Stats\"\n",
    "hol2_misc = scrape_fbref_stats(url3)"
   ]
  },
  {
   "cell_type": "code",
   "execution_count": 1091,
   "id": "4f8ac37b-0613-4719-8bae-784460420c8d",
   "metadata": {},
   "outputs": [
    {
     "name": "stdout",
     "output_type": "stream",
     "text": [
      "(665, 25) (665, 20) (665, 21)\n"
     ]
    },
    {
     "data": {
      "text/plain": [
       "(665, 63)"
      ]
     },
     "execution_count": 1091,
     "metadata": {},
     "output_type": "execute_result"
    }
   ],
   "source": [
    "# Aggregate data\n",
    "hol2_agg = join_player_tables([hol2_stand, hol2_shooting, hol2_misc], 'hol2')\n",
    "\n",
    "# Check number of columns and rows\n",
    "print(hol2_stand.shape, hol2_shooting.shape, hol2_misc.shape)\n",
    "hol2_agg.shape"
   ]
  },
  {
   "cell_type": "markdown",
   "id": "ae3929a1-da3f-46aa-8a97-80f60eba5c82",
   "metadata": {},
   "source": [
    "## Norway"
   ]
  },
  {
   "cell_type": "markdown",
   "id": "b9f78759-aa75-48fa-8379-47928df37aae",
   "metadata": {},
   "source": [
    "### NOR 1 - Ongoing | Standard Stats, Shooting and Miscellaneous"
   ]
  },
  {
   "cell_type": "code",
   "execution_count": 1094,
   "id": "63e64fc1-f3f7-4f90-955e-f4054eea02e5",
   "metadata": {},
   "outputs": [],
   "source": [
    "# STANDARD STATS\n",
    "url1 = \"https://fbref.com/en/comps/28/stats/Eliteserien-Stats\"\n",
    "nor1_stand = scrape_fbref_stats(url1)\n",
    "# SHOOTING\n",
    "url2 = \"https://fbref.com/en/comps/28/shooting/Eliteserien-Stats\"\n",
    "nor1_shooting = scrape_fbref_stats(url2)\n",
    "# MISCELLANEOUS\n",
    "url3 = \"https://fbref.com/en/comps/28/misc/Eliteserien-Stats\"\n",
    "nor1_misc = scrape_fbref_stats(url3)"
   ]
  },
  {
   "cell_type": "code",
   "execution_count": 1095,
   "id": "36f79c11-44d0-4472-986c-841e102d8f4d",
   "metadata": {},
   "outputs": [
    {
     "name": "stdout",
     "output_type": "stream",
     "text": [
      "(368, 25) (368, 20) (368, 21)\n"
     ]
    },
    {
     "data": {
      "text/plain": [
       "(368, 63)"
      ]
     },
     "execution_count": 1095,
     "metadata": {},
     "output_type": "execute_result"
    }
   ],
   "source": [
    "# Aggregate data\n",
    "nor1_agg = join_player_tables([nor1_stand, nor1_shooting, nor1_misc], 'nor1')\n",
    "\n",
    "# Check number of columns and rows\n",
    "print(nor1_stand.shape, nor1_shooting.shape, nor1_misc.shape)\n",
    "nor1_agg.shape"
   ]
  },
  {
   "cell_type": "markdown",
   "id": "7da6b6ed-f5b2-4d4a-a04f-5b9a17ea404c",
   "metadata": {},
   "source": [
    "## Poland"
   ]
  },
  {
   "cell_type": "markdown",
   "id": "48517476-5765-4c87-b797-d6c99cde7e26",
   "metadata": {},
   "source": [
    "### POL 1 - Standard Stats, Shooting and Miscellaneous"
   ]
  },
  {
   "cell_type": "code",
   "execution_count": 1098,
   "id": "8ac16ea0-1ad9-4f6f-8413-37174f1e42ed",
   "metadata": {},
   "outputs": [],
   "source": [
    "# STANDARD STATS\n",
    "url1 = \"https://fbref.com/en/comps/36/2024-2025/stats/2024-2025-Ekstraklasa-Stats\"\n",
    "pol1_stand = scrape_fbref_stats(url1)\n",
    "# SHOOTING\n",
    "url2 = \"https://fbref.com/en/comps/36/2024-2025/shooting/2024-2025-Ekstraklasa-Stats\"\n",
    "pol1_shooting = scrape_fbref_stats(url2)\n",
    "# MISCELLANEOUS\n",
    "url3 = \"https://fbref.com/en/comps/36/2024-2025/misc/2024-2025-Ekstraklasa-Stats\"\n",
    "pol1_misc = scrape_fbref_stats(url3)"
   ]
  },
  {
   "cell_type": "code",
   "execution_count": 1099,
   "id": "dbea74f5-c1ff-4239-a645-f4ef7b0d32f0",
   "metadata": {},
   "outputs": [
    {
     "name": "stdout",
     "output_type": "stream",
     "text": [
      "(552, 25) (552, 20) (552, 21)\n"
     ]
    },
    {
     "data": {
      "text/plain": [
       "(552, 63)"
      ]
     },
     "execution_count": 1099,
     "metadata": {},
     "output_type": "execute_result"
    }
   ],
   "source": [
    "# Aggregate data\n",
    "pol1_agg = join_player_tables([pol1_stand, pol1_shooting, pol1_misc], 'pol1')\n",
    "\n",
    "# Check number of columns and rows\n",
    "print(pol1_stand.shape, pol1_shooting.shape, pol1_misc.shape)\n",
    "pol1_agg.shape"
   ]
  },
  {
   "cell_type": "markdown",
   "id": "8f9a4f76-76a4-42a2-ae5c-b825164a3f58",
   "metadata": {},
   "source": [
    "## Portugal"
   ]
  },
  {
   "cell_type": "markdown",
   "id": "a003ae0d-b6e9-4ecf-94e5-eeebcc590faf",
   "metadata": {},
   "source": [
    "### POR 1 - Standard Stats, Shooting, Miscellaneous, Passing, Defensive and Possession"
   ]
  },
  {
   "cell_type": "code",
   "execution_count": 1102,
   "id": "8dd1d573-2203-436d-97f8-435394684452",
   "metadata": {},
   "outputs": [],
   "source": [
    "# STANDARD STATS\n",
    "url1 = \"https://fbref.com/en/comps/32/stats/Primeira-Liga-Stats\"\n",
    "por1_stand = scrape_fbref_stats(url1)\n",
    "# SHOOTING\n",
    "url2 = \"https://fbref.com/en/comps/32/shooting/Primeira-Liga-Stats\"\n",
    "por1_shooting = scrape_fbref_stats(url2)\n",
    "# MISCELLANEOUS\n",
    "url3 = \"https://fbref.com/en/comps/32/misc/Primeira-Liga-Stats\"\n",
    "por1_misc = scrape_fbref_stats(url3)\n",
    "# PASSING\n",
    "url4= \"https://fbref.com/en/comps/32/passing/Primeira-Liga-Stats\"\n",
    "por1_pass = scrape_fbref_stats(url4)\n",
    "# DEFENSIVE\n",
    "url5 = \"https://fbref.com/en/comps/32/defense/Primeira-Liga-Stats\"\n",
    "por1_def= scrape_fbref_stats(url5)\n",
    "# POSSESSION\n",
    "url6 = \"https://fbref.com/en/comps/32/possession/Primeira-Liga-Stats\"\n",
    "por1_pos= scrape_fbref_stats(url6)"
   ]
  },
  {
   "cell_type": "code",
   "execution_count": 1103,
   "id": "602b60cd-7556-4ea2-86f7-d4287ee8f14e",
   "metadata": {},
   "outputs": [
    {
     "name": "stdout",
     "output_type": "stream",
     "text": [
      "(585, 37) (585, 26) (585, 25) (585, 32) (585, 25) (585, 31)\n"
     ]
    },
    {
     "data": {
      "text/plain": [
       "(585, 167)"
      ]
     },
     "execution_count": 1103,
     "metadata": {},
     "output_type": "execute_result"
    }
   ],
   "source": [
    "# Aggregate data\n",
    "por1_agg = join_player_tables([por1_stand, por1_shooting, por1_misc, por1_pass, por1_def, por1_pos], 'por1')\n",
    "\n",
    "# Check number of columns and rows\n",
    "print(por1_stand.shape, por1_shooting.shape, por1_misc.shape, por1_pass.shape, por1_def.shape, por1_pos.shape)\n",
    "por1_agg.shape"
   ]
  },
  {
   "cell_type": "markdown",
   "id": "56d476b9-d504-4820-9d0f-0b2d8942702a",
   "metadata": {},
   "source": [
    "## Romania"
   ]
  },
  {
   "cell_type": "markdown",
   "id": "dc1bfd6a-f0be-4e10-ad64-3ae96f41e142",
   "metadata": {},
   "source": [
    "### ROM 1 - Standard Stats, Shooting and Miscellaneous"
   ]
  },
  {
   "cell_type": "code",
   "execution_count": 1230,
   "id": "3f0c4238-2f43-41ec-8625-d3b77d022398",
   "metadata": {},
   "outputs": [],
   "source": [
    "# STANDARD STATS\n",
    "url1 = \"https://fbref.com/en/comps/47/2024-2025/stats/2024-2025-Liga-I-Stats\"\n",
    "rom1_stand = scrape_fbref_stats(url1)\n",
    "# SHOOTING\n",
    "url2 = \"https://fbref.com/en/comps/47/2024-2025/shooting/2024-2025-Liga-I-Stats\"\n",
    "rom1_shooting = scrape_fbref_stats(url2)\n",
    "# MISCELLANEOUS\n",
    "url3 = \"https://fbref.com/en/comps/47/2024-2025/misc/2024-2025-Liga-I-Stats\"\n",
    "rom1_misc = scrape_fbref_stats(url3)"
   ]
  },
  {
   "cell_type": "code",
   "execution_count": 1231,
   "id": "bc042b00-2fbc-4914-a913-00cafc81bfde",
   "metadata": {},
   "outputs": [
    {
     "name": "stdout",
     "output_type": "stream",
     "text": [
      "(574, 25) (574, 20) (574, 21)\n"
     ]
    },
    {
     "data": {
      "text/plain": [
       "(574, 63)"
      ]
     },
     "execution_count": 1231,
     "metadata": {},
     "output_type": "execute_result"
    }
   ],
   "source": [
    "# Aggregate data\n",
    "rom1_agg = join_player_tables([rom1_stand, rom1_shooting, rom1_misc], 'rom1')\n",
    "\n",
    "# Check number of columns and rows\n",
    "print(rom1_stand.shape, rom1_shooting.shape, rom1_misc.shape)\n",
    "rom1_agg.shape"
   ]
  },
  {
   "cell_type": "markdown",
   "id": "27f46480-6b72-4fe0-8bd8-45cdee970ff8",
   "metadata": {},
   "source": [
    "## Russia"
   ]
  },
  {
   "cell_type": "markdown",
   "id": "c45878d5-1ed1-4f83-852e-62c193a35100",
   "metadata": {},
   "source": [
    "### RUS 1 - Standard Stats, Shooting and Miscellaneous"
   ]
  },
  {
   "cell_type": "code",
   "execution_count": 1269,
   "id": "12110939-5122-4feb-833d-dec7d830cdb2",
   "metadata": {},
   "outputs": [],
   "source": [
    "# STANDARD STATS\n",
    "url1 = \"https://fbref.com/en/comps/30/2024-2025/stats/2024-2025-Russian-Premier-League-Stats\"\n",
    "rus1_stand = scrape_fbref_stats(url1)\n",
    "# SHOOTING\n",
    "url2 = \"https://fbref.com/en/comps/30/2024-2025/shooting/2024-2025-Russian-Premier-League-Stats\"\n",
    "rus1_shooting = scrape_fbref_stats(url2)\n",
    "# MISCELLANEOUS\n",
    "url3 = \"https://fbref.com/en/comps/30/2024-2025/misc/2024-2025-Russian-Premier-League-Stats\"\n",
    "rus1_misc = scrape_fbref_stats(url3)"
   ]
  },
  {
   "cell_type": "code",
   "execution_count": 1270,
   "id": "246979d6-61e1-4dc5-beba-1db9876f2cb1",
   "metadata": {},
   "outputs": [
    {
     "name": "stdout",
     "output_type": "stream",
     "text": [
      "(477, 25) (477, 20) (477, 21)\n"
     ]
    },
    {
     "data": {
      "text/plain": [
       "(477, 63)"
      ]
     },
     "execution_count": 1270,
     "metadata": {},
     "output_type": "execute_result"
    }
   ],
   "source": [
    "# Aggregate data\n",
    "rus1_agg = join_player_tables([rus1_stand, rus1_shooting, rus1_misc], 'rus1')\n",
    "\n",
    "# Check number of columns and rows\n",
    "print(rus1_stand.shape, rus1_shooting.shape, rus1_misc.shape)\n",
    "rus1_agg.shape"
   ]
  },
  {
   "cell_type": "markdown",
   "id": "aff41a79-07e6-4945-8701-a10abd4589df",
   "metadata": {},
   "source": [
    "## Scotland"
   ]
  },
  {
   "cell_type": "markdown",
   "id": "eccdb331-78d5-4a46-8b9f-ecf27a5b0c21",
   "metadata": {},
   "source": [
    "### SCO 1 - Standard Stats, Shooting and Miscellaneous"
   ]
  },
  {
   "cell_type": "code",
   "execution_count": 1106,
   "id": "b4678878-eb53-436b-a39f-366289afd088",
   "metadata": {},
   "outputs": [],
   "source": [
    "# STANDARD STATS\n",
    "url1 = \"https://fbref.com/en/comps/40/stats/Scottish-Premiership-Stats\"\n",
    "sco1_stand = scrape_fbref_stats(url1)\n",
    "# SHOOTING\n",
    "url2 = \"https://fbref.com/en/comps/40/shooting/Scottish-Premiership-Stats\"\n",
    "sco1_shooting = scrape_fbref_stats(url2)\n",
    "# MISCELLANEOUS\n",
    "url3 = \"https://fbref.com/en/comps/40/misc/Scottish-Premiership-Stats\"\n",
    "sco1_misc = scrape_fbref_stats(url3)"
   ]
  },
  {
   "cell_type": "code",
   "execution_count": 1107,
   "id": "0e0d3764-91d5-450c-b440-a98b2d0007b3",
   "metadata": {},
   "outputs": [
    {
     "name": "stdout",
     "output_type": "stream",
     "text": [
      "(372, 25) (372, 20) (372, 21)\n"
     ]
    },
    {
     "data": {
      "text/plain": [
       "(372, 63)"
      ]
     },
     "execution_count": 1107,
     "metadata": {},
     "output_type": "execute_result"
    }
   ],
   "source": [
    "# Aggregate data\n",
    "sco1_agg = join_player_tables([sco1_stand, sco1_shooting, sco1_misc], 'sco1')\n",
    "\n",
    "# Check number of columns and rows\n",
    "print(sco1_stand.shape, sco1_shooting.shape, sco1_misc.shape)\n",
    "sco1_agg.shape"
   ]
  },
  {
   "cell_type": "markdown",
   "id": "af488558-e8e6-4d93-bea1-41b5b4b140d6",
   "metadata": {},
   "source": [
    "## Serbia"
   ]
  },
  {
   "cell_type": "markdown",
   "id": "3e4039ab-3855-4153-b297-ce85e84ac6ea",
   "metadata": {},
   "source": [
    "### SER 1 - Standard Stats, Shooting and Miscellaneous"
   ]
  },
  {
   "cell_type": "code",
   "execution_count": 1110,
   "id": "9df184b0-ccd2-464e-b5d5-069a48469046",
   "metadata": {},
   "outputs": [],
   "source": [
    "# STANDARD STATS\n",
    "url1 = \"https://fbref.com/en/comps/54/2024-2025/stats/2024-2025-Serbian-SuperLiga-Stats\"\n",
    "ser1_stand = scrape_fbref_stats(url1)\n",
    "# SHOOTING\n",
    "url2 = \"https://fbref.com/en/comps/54/2024-2025/shooting/2024-2025-Serbian-SuperLiga-Stats\"\n",
    "ser1_shooting = scrape_fbref_stats(url2)\n",
    "# MISCELLANEOUS\n",
    "url3 = \"https://fbref.com/en/comps/54/2024-2025/misc/2024-2025-Serbian-SuperLiga-Stats\"\n",
    "ser1_misc = scrape_fbref_stats(url3)"
   ]
  },
  {
   "cell_type": "code",
   "execution_count": 1111,
   "id": "858330dd-959b-4fcc-9de3-d811fef974bf",
   "metadata": {},
   "outputs": [
    {
     "name": "stdout",
     "output_type": "stream",
     "text": [
      "(579, 25) (579, 20) (579, 21)\n"
     ]
    },
    {
     "data": {
      "text/plain": [
       "(579, 63)"
      ]
     },
     "execution_count": 1111,
     "metadata": {},
     "output_type": "execute_result"
    }
   ],
   "source": [
    "# Aggregate data\n",
    "ser1_agg = join_player_tables([ser1_stand, ser1_shooting, ser1_misc], 'ser1')\n",
    "\n",
    "# Check number of columns and rows\n",
    "print(ser1_stand.shape, ser1_shooting.shape, ser1_misc.shape)\n",
    "ser1_agg.shape"
   ]
  },
  {
   "cell_type": "markdown",
   "id": "58ccea69-a8da-41a6-89b3-aecb1861030b",
   "metadata": {},
   "source": [
    "## Spain"
   ]
  },
  {
   "cell_type": "markdown",
   "id": "c53b2777-f730-44e6-815e-22ba36cde3c1",
   "metadata": {},
   "source": [
    "### SPA 1 - Standard Stats, Shooting, Miscellaneous, Passing, Defensive and Possession"
   ]
  },
  {
   "cell_type": "code",
   "execution_count": 1114,
   "id": "9e256719-8df8-4cbd-8150-28e6a581c464",
   "metadata": {},
   "outputs": [],
   "source": [
    "# STANDARD STATS\n",
    "url1 = \"https://fbref.com/en/comps/12/stats/La-Liga-Stats\"\n",
    "spa1_stand = scrape_fbref_stats(url1)\n",
    "# SHOOTING\n",
    "url2 = \"https://fbref.com/en/comps/12/shooting/La-Liga-Stats\"\n",
    "spa1_shooting = scrape_fbref_stats(url2)\n",
    "# MISCELLANEOUS\n",
    "url3 = \"https://fbref.com/en/comps/12/misc/La-Liga-Stats\"\n",
    "spa1_misc = scrape_fbref_stats(url3)\n",
    "# PASSING\n",
    "url4= \"https://fbref.com/en/comps/12/passing/La-Liga-Stats\"\n",
    "spa1_pass = scrape_fbref_stats(url4)\n",
    "# DEFENSIVE\n",
    "url5 = \"https://fbref.com/en/comps/12/defense/La-Liga-Stats\"\n",
    "spa1_def= scrape_fbref_stats(url5)\n",
    "# POSSESSION\n",
    "url6 = \"https://fbref.com/en/comps/12/possession/La-Liga-Stats\"\n",
    "spa1_pos= scrape_fbref_stats(url6)"
   ]
  },
  {
   "cell_type": "code",
   "execution_count": 1115,
   "id": "201328c4-6cb3-45f2-9288-c4aaefe7a491",
   "metadata": {},
   "outputs": [
    {
     "name": "stdout",
     "output_type": "stream",
     "text": [
      "(601, 37) (601, 26) (601, 25) (601, 32) (601, 25) (601, 31)\n"
     ]
    },
    {
     "data": {
      "text/plain": [
       "(601, 167)"
      ]
     },
     "execution_count": 1115,
     "metadata": {},
     "output_type": "execute_result"
    }
   ],
   "source": [
    "# Aggregate data\n",
    "spa1_agg = join_player_tables([spa1_stand, spa1_shooting, spa1_misc, spa1_pass, spa1_def, spa1_pos], 'spa1')\n",
    "\n",
    "# Check number of columns and rows\n",
    "print(spa1_stand.shape, spa1_shooting.shape, spa1_misc.shape, spa1_pass.shape, spa1_def.shape, spa1_pos.shape)\n",
    "spa1_agg.shape"
   ]
  },
  {
   "cell_type": "markdown",
   "id": "5b40f866-90d5-419c-a5da-07aca9f0b96f",
   "metadata": {},
   "source": [
    "### SPA 2 - Standard Stats, Shooting and Miscellaneous"
   ]
  },
  {
   "cell_type": "code",
   "execution_count": 1117,
   "id": "87644a52-acaf-4b4d-8e00-398e5caf91e8",
   "metadata": {},
   "outputs": [],
   "source": [
    "# STANDARD STATS\n",
    "url1 = \"https://fbref.com/en/comps/17/stats/Segunda-Division-Stats\"\n",
    "spa2_stand = scrape_fbref_stats(url1)\n",
    "# SHOOTING\n",
    "url2 = \"https://fbref.com/en/comps/17/shooting/Segunda-Division-Stats\"\n",
    "spa2_shooting = scrape_fbref_stats(url2)\n",
    "# MISCELLANEOUS\n",
    "url3 = \"https://fbref.com/en/comps/17/misc/Segunda-Division-Stats\"\n",
    "spa2_misc = scrape_fbref_stats(url3)"
   ]
  },
  {
   "cell_type": "code",
   "execution_count": 1118,
   "id": "0ae458a7-fe91-42b9-a40b-aab578a51ed9",
   "metadata": {},
   "outputs": [
    {
     "name": "stdout",
     "output_type": "stream",
     "text": [
      "(680, 25) (680, 20) (680, 21)\n"
     ]
    },
    {
     "data": {
      "text/plain": [
       "(680, 63)"
      ]
     },
     "execution_count": 1118,
     "metadata": {},
     "output_type": "execute_result"
    }
   ],
   "source": [
    "# Aggregate data\n",
    "spa2_agg = join_player_tables([spa2_stand, spa2_shooting, spa2_misc], 'spa2')\n",
    "\n",
    "# Check number of columns and rows\n",
    "print(spa2_stand.shape, spa2_shooting.shape, spa2_misc.shape)\n",
    "spa2_agg.shape"
   ]
  },
  {
   "cell_type": "markdown",
   "id": "5cc95e43-fab5-47b7-8e7b-c11c187f49b4",
   "metadata": {},
   "source": [
    "## Sweden"
   ]
  },
  {
   "cell_type": "markdown",
   "id": "0070a1f6-7c49-4c75-a3b2-587afd99f263",
   "metadata": {},
   "source": [
    "### SWE 1 | Ongoing - Standard Stats, Shooting and Miscellaneous"
   ]
  },
  {
   "cell_type": "code",
   "execution_count": 1121,
   "id": "0e2b681c-81a8-47ce-9946-c18c4dba2351",
   "metadata": {},
   "outputs": [],
   "source": [
    "# STANDARD STATS\n",
    "url1 = \"https://fbref.com/en/comps/29/stats/Allsvenskan-Stats\"\n",
    "swe1_stand = scrape_fbref_stats(url1)\n",
    "# SHOOTING\n",
    "url2 = \"https://fbref.com/en/comps/29/shooting/Allsvenskan-Stats\"\n",
    "swe1_shooting = scrape_fbref_stats(url2)\n",
    "# MISCELLANEOUS\n",
    "url3 = \"https://fbref.com/en/comps/29/misc/Allsvenskan-Stats\"\n",
    "swe1_misc = scrape_fbref_stats(url3)"
   ]
  },
  {
   "cell_type": "code",
   "execution_count": 1122,
   "id": "fe77f8f8-f7aa-48bf-a585-f40a66121688",
   "metadata": {},
   "outputs": [
    {
     "name": "stdout",
     "output_type": "stream",
     "text": [
      "(394, 25) (394, 20) (394, 21)\n"
     ]
    },
    {
     "data": {
      "text/plain": [
       "(394, 63)"
      ]
     },
     "execution_count": 1122,
     "metadata": {},
     "output_type": "execute_result"
    }
   ],
   "source": [
    "# Aggregate data\n",
    "swe1_agg = join_player_tables([swe1_stand, swe1_shooting, swe1_misc], 'swe1')\n",
    "\n",
    "# Check number of columns and rows\n",
    "print(swe1_stand.shape, swe1_shooting.shape, swe1_misc.shape)\n",
    "swe1_agg.shape"
   ]
  },
  {
   "attachments": {},
   "cell_type": "markdown",
   "id": "2494e2e6-9bdb-49d8-9be5-781c59d61e2e",
   "metadata": {},
   "source": [
    "## Switzerland"
   ]
  },
  {
   "cell_type": "markdown",
   "id": "17226013-eb6a-4815-a322-f88f4a5c1825",
   "metadata": {},
   "source": [
    "### SUI 1 - Standard Stats, Shooting and Miscellaneous"
   ]
  },
  {
   "cell_type": "code",
   "execution_count": 1125,
   "id": "50114db1-2102-4ef4-ad8f-32a39f48719d",
   "metadata": {},
   "outputs": [],
   "source": [
    "# STANDARD STATS\n",
    "url1 = \"https://fbref.com/en/comps/57/2024-2025/stats/2024-2025-Swiss-Super-League-Stats\"\n",
    "swi1_stand = scrape_fbref_stats(url1)\n",
    "# SHOOTING\n",
    "url2 = \"https://fbref.com/en/comps/57/2024-2025/shooting/2024-2025-Swiss-Super-League-Stats\"\n",
    "swi1_shooting = scrape_fbref_stats(url2)\n",
    "# MISCELLANEOUS\n",
    "url3 = \"https://fbref.com/en/comps/57/2024-2025/misc/2024-2025-Swiss-Super-League-Stats\"\n",
    "swi1_misc = scrape_fbref_stats(url3)"
   ]
  },
  {
   "cell_type": "code",
   "execution_count": 1126,
   "id": "40388213-a308-4795-867e-1d9e077b41fa",
   "metadata": {},
   "outputs": [
    {
     "name": "stdout",
     "output_type": "stream",
     "text": [
      "(380, 25) (380, 20) (380, 21)\n"
     ]
    },
    {
     "data": {
      "text/plain": [
       "(380, 63)"
      ]
     },
     "execution_count": 1126,
     "metadata": {},
     "output_type": "execute_result"
    }
   ],
   "source": [
    "# Aggregate data\n",
    "swi1_agg = join_player_tables([swi1_stand, swi1_shooting, swi1_misc], 'swi1')\n",
    "\n",
    "# Check number of columns and rows\n",
    "print(swi1_stand.shape, swi1_shooting.shape, swi1_misc.shape)\n",
    "swi1_agg.shape"
   ]
  },
  {
   "cell_type": "markdown",
   "id": "af400e30-6769-40f3-8750-c3429de03dd1",
   "metadata": {},
   "source": [
    "## Turkey"
   ]
  },
  {
   "cell_type": "markdown",
   "id": "4bd8e5fb-7fb4-4f01-8c71-fc3cb76eaa00",
   "metadata": {},
   "source": [
    "### TUR 1 - Standard Stats, Shooting and Miscellaneous"
   ]
  },
  {
   "cell_type": "code",
   "execution_count": 1129,
   "id": "37807bf9-0760-4d87-83d6-5ff220b3bdd7",
   "metadata": {},
   "outputs": [],
   "source": [
    "# STANDARD STATS\n",
    "url1 = \"https://fbref.com/en/comps/26/stats/Super-Lig-Stats\"\n",
    "tur1_stand = scrape_fbref_stats(url1)\n",
    "# SHOOTING\n",
    "url2 = \"https://fbref.com/en/comps/26/shooting/Super-Lig-Stats\"\n",
    "tur1_shooting = scrape_fbref_stats(url2)\n",
    "# MISCELLANEOUS\n",
    "url3 = \"https://fbref.com/en/comps/26/misc/Super-Lig-Stats\"\n",
    "tur1_misc = scrape_fbref_stats(url3)"
   ]
  },
  {
   "cell_type": "code",
   "execution_count": 1130,
   "id": "5b2c4524-b3ed-4b17-85b3-54647118c70b",
   "metadata": {},
   "outputs": [
    {
     "name": "stdout",
     "output_type": "stream",
     "text": [
      "(598, 25) (598, 20) (598, 21)\n"
     ]
    },
    {
     "data": {
      "text/plain": [
       "(598, 63)"
      ]
     },
     "execution_count": 1130,
     "metadata": {},
     "output_type": "execute_result"
    }
   ],
   "source": [
    "# Aggregate data\n",
    "tur1_agg = join_player_tables([tur1_stand, tur1_shooting, tur1_misc], 'tur1')\n",
    "\n",
    "# Check number of columns and rows\n",
    "print(tur1_stand.shape, tur1_shooting.shape, tur1_misc.shape)\n",
    "tur1_agg.shape"
   ]
  },
  {
   "cell_type": "markdown",
   "id": "81d52ae9-4eb3-4e0f-9241-ffd3f086af1a",
   "metadata": {},
   "source": [
    "## Ukraine"
   ]
  },
  {
   "cell_type": "markdown",
   "id": "b0d0acaa-987d-4a46-b6f3-aab3448059b2",
   "metadata": {},
   "source": [
    "### UKR 1 - Standard Stats and Miscellaneous"
   ]
  },
  {
   "cell_type": "code",
   "execution_count": 1273,
   "id": "4107329a-a541-4c7c-8aa2-cfaea791f078",
   "metadata": {},
   "outputs": [],
   "source": [
    "# STANDARD STATS\n",
    "url1 = \"https://fbref.com/en/comps/39/stats/Ukrainian-Premier-League-Stats\"\n",
    "ukr1_stand = scrape_fbref_stats(url1)\n",
    "# SHOOTING - NOT AVAILABLE\n",
    "# MISCELLANEOUS\n",
    "url3 = \"https://fbref.com/en/comps/39/misc/Ukrainian-Premier-League-Stats\"\n",
    "ukr1_misc = scrape_fbref_stats(url3)"
   ]
  },
  {
   "cell_type": "code",
   "execution_count": 1274,
   "id": "255625aa-04ff-43b3-9b1e-d26e55aeb080",
   "metadata": {},
   "outputs": [
    {
     "name": "stdout",
     "output_type": "stream",
     "text": [
      "(521, 25) (521, 21)\n"
     ]
    },
    {
     "data": {
      "text/plain": [
       "(521, 45)"
      ]
     },
     "execution_count": 1274,
     "metadata": {},
     "output_type": "execute_result"
    }
   ],
   "source": [
    "# Aggregate data\n",
    "ukr1_agg = join_player_tables([ukr1_stand, ukr1_misc], 'ukr1')\n",
    "\n",
    "# Check number of columns and rows\n",
    "print(ukr1_stand.shape, ukr1_misc.shape)\n",
    "ukr1_agg.shape"
   ]
  },
  {
   "cell_type": "markdown",
   "id": "5b7f4423-6229-4a07-9fd2-dc62d8249bb4",
   "metadata": {},
   "source": [
    "# 3. All Leagues Consolidation and Data Cleaning"
   ]
  },
  {
   "cell_type": "code",
   "execution_count": 1202,
   "id": "2b93f9b0-e7b2-419d-b423-bb81a9bcb021",
   "metadata": {},
   "outputs": [],
   "source": [
    "def standardize_and_concat(dfs, fill_value='-'):\n",
    "    \"\"\"\n",
    "    Standardizes column sets across multiple DataFrames and concatenates them.\n",
    "\n",
    "    Parameters:\n",
    "    - dfs: list of pandas DataFrames\n",
    "    - fill_value: value used to fill missing columns (default: '-')\n",
    "\n",
    "    Returns:\n",
    "    - A single concatenated DataFrame with aligned and ordered columns\n",
    "    \"\"\"\n",
    "    # Step 1: Get full set of all column names across all dataframes\n",
    "    all_columns = set()\n",
    "    for df in dfs:\n",
    "        all_columns.update(df.columns)\n",
    "\n",
    "    # Step 2: Determine desired column order:\n",
    "    # Start with columns from the first dataframe\n",
    "    base_order = list(dfs[0].columns)\n",
    "    # Append any new columns from others (not in the first one)\n",
    "    extra_columns = [col for col in all_columns if col not in base_order]\n",
    "    final_columns = base_order + sorted(extra_columns)\n",
    "\n",
    "    # Step 3: Reindex each dataframe to have all columns (fill missing with '-')\n",
    "    standardized_dfs = [df.reindex(columns=all_columns, fill_value=fill_value) for df in dfs]\n",
    "\n",
    "    # Step 4: Concatenate all dataframes\n",
    "    combined_df = pd.concat(standardized_dfs, ignore_index=True)\n",
    "\n",
    "    # Step 5: Add all missing columns (if any) in one go\n",
    "    missing_cols = [col for col in final_columns if col not in combined_df.columns]\n",
    "    if missing_cols:\n",
    "        missing_df = pd.DataFrame({col: fill_value for col in missing_cols}, index=combined_df.index)\n",
    "        combined_df = pd.concat([combined_df, missing_df], axis=1)\n",
    "\n",
    "    # Step 6: Reorder columns\n",
    "    combined_df = combined_df[final_columns]\n",
    "\n",
    "    return combined_df\n"
   ]
  },
  {
   "cell_type": "code",
   "execution_count": 1279,
   "id": "118a87c4-d591-4821-ad14-9ec8ac2e291c",
   "metadata": {},
   "outputs": [],
   "source": [
    "all_leagues = [eng1_agg, aus1_agg, bel1_agg, bel2_agg, bul1_agg, cro1_agg, cze1_agg, \n",
    "               den1_agg, eng2_agg, eng3_agg, fin1_agg, fra1_agg, fra2_agg, ger1_agg, \n",
    "               ger2_agg, ger3_agg, gre1_agg, hun1_agg, ita1_agg, ita2_agg, hol1_agg, \n",
    "               hol2_agg, nor1_agg, pol1_agg, por1_agg, rom1_agg, rus1_agg, sco1_agg, \n",
    "               ser1_agg, spa1_agg, spa2_agg, swe1_agg, swi1_agg, tur1_agg, ukr1_agg]"
   ]
  },
  {
   "cell_type": "code",
   "execution_count": 1281,
   "id": "7edb19f5-dc97-4190-ab33-49c94143f631",
   "metadata": {},
   "outputs": [
    {
     "data": {
      "text/plain": [
       "(18224, 169)"
      ]
     },
     "execution_count": 1281,
     "metadata": {},
     "output_type": "execute_result"
    }
   ],
   "source": [
    "df_complete = standardize_and_concat(all_leagues)\n",
    "df_complete.shape"
   ]
  },
  {
   "cell_type": "code",
   "execution_count": 1283,
   "id": "db9353f9-5ec4-426d-94ed-815ecdc14e85",
   "metadata": {},
   "outputs": [
    {
     "data": {
      "text/plain": [
       "(18224, 127)"
      ]
     },
     "execution_count": 1283,
     "metadata": {},
     "output_type": "execute_result"
    }
   ],
   "source": [
    "cols_to_drop = ['Nation_2','Pos_2','Squad_2','Age_2','Born_2','Matches_2',\n",
    "                'Nation_3','Pos_3','Squad_3','Age_3','Born_3','Matches_3',\n",
    "                'Nation_4','Pos_4','Squad_4','Age_4','Born_4','Matches_4',\n",
    "                'Nation_5','Pos_5','Squad_5','Age_5','Born_5','Matches_5',\n",
    "                'Nation_6','Pos_6','Squad_6','Age_6','Born_6','Matches_6',\n",
    "                '90s_3','90s_4','90s_5','90s_6',\n",
    "                'Rk','Matches','Expected_xG_2','Expected_npxG_2',\n",
    "                'Performance_CrdR_2','Performance_CrdY_2',\n",
    "                'Performance_CrdY_3','Performance_CrdR_3']\n",
    "df_complete.drop(columns=cols_to_drop, inplace = True)\n",
    "df_complete.shape"
   ]
  },
  {
   "cell_type": "code",
   "execution_count": 1285,
   "id": "9cfa1fbe-ed96-48dc-8018-9f1ebf6a252d",
   "metadata": {},
   "outputs": [],
   "source": [
    "df_complete.to_excel(r\"C:\\Users\\pedro\\OneDrive\\Escritorio\\Projetos\\Football Scout/df_complete.xlsx\", index=False)"
   ]
  },
  {
   "cell_type": "code",
   "execution_count": null,
   "id": "b7d4d6e8-983e-4d41-9568-cef462006c5e",
   "metadata": {},
   "outputs": [],
   "source": []
  }
 ],
 "metadata": {
  "kernelspec": {
   "display_name": "Python [conda env:base] *",
   "language": "python",
   "name": "conda-base-py"
  },
  "language_info": {
   "codemirror_mode": {
    "name": "ipython",
    "version": 3
   },
   "file_extension": ".py",
   "mimetype": "text/x-python",
   "name": "python",
   "nbconvert_exporter": "python",
   "pygments_lexer": "ipython3",
   "version": "3.12.7"
  }
 },
 "nbformat": 4,
 "nbformat_minor": 5
}
